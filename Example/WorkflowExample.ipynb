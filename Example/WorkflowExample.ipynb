{
 "cells": [
  {
   "cell_type": "markdown",
   "source": [
    "# Workflow example of export / import of a model\n",
    "\n",
    "## Introduction\n",
    "\n",
    "We will try to train a model to check if a number is duffinian or not.\n",
    "\n",
    "A Duffinian number is a composite number k that is relatively prime to its sigma sum σ.\n",
    "The sigma sum of k is the sum of the divisors of k.\n",
    "\n",
    "E.G. 161 is a Duffinian number because:\n",
    "- It is composite. (7 × 23)\n",
    "- The sigma sum 192 (1 + 7 + 23 + 161) is relatively prime to 161.\n",
    "\n",
    "## Training and testing the model\n",
    "\n",
    "1. Create random datasets for training and testing"
   ],
   "metadata": {
    "collapsed": false
   },
   "id": "f560ba46cad6113d"
  },
  {
   "cell_type": "code",
   "execution_count": 9,
   "id": "initial_id",
   "metadata": {
    "collapsed": true,
    "ExecuteTime": {
     "end_time": "2024-01-16T09:09:12.670548600Z",
     "start_time": "2024-01-16T09:09:12.539024600Z"
    }
   },
   "outputs": [],
   "source": [
    "from Tests.DatasetGenerationFunction import random_dataset_of_bits, is_duffinian_list\n",
    "\n",
    "# We generate 8 bits numbers (from 0 to 255) and we check if they are duffinian or not\n",
    "training_data = random_dataset_of_bits(10000, 8, is_duffinian_list)\n",
    "test_data = random_dataset_of_bits(100, 8, is_duffinian_list)"
   ]
  },
  {
   "cell_type": "markdown",
   "source": [
    "2. Create the neural network"
   ],
   "metadata": {
    "collapsed": false
   },
   "id": "dcc75879aab080f8"
  },
  {
   "cell_type": "code",
   "outputs": [],
   "source": [
    "import TinyNeuralNetwork as tnn\n",
    "inputNodes = 8 # 8 because we want to test one integer at a time\n",
    "outputNodes = 1 # 1 because we want to know if the number is duffinian or not (0 or 1)\n",
    "hiddenNodes = [20, 20] # 2 hidden layers of 20 neurons each\n",
    "neural_network = tnn.TinyNeuralNetwork(inputNodes, outputNodes, hiddenNodes)"
   ],
   "metadata": {
    "collapsed": false,
    "ExecuteTime": {
     "end_time": "2024-01-16T09:09:21.979051400Z",
     "start_time": "2024-01-16T09:09:21.962817500Z"
    }
   },
   "id": "648d9d03190fb3c8",
   "execution_count": 11
  },
  {
   "cell_type": "markdown",
   "source": [
    "3. Train the neural network"
   ],
   "metadata": {
    "collapsed": false
   },
   "id": "137d3c872856a71f"
  },
  {
   "cell_type": "code",
   "outputs": [],
   "source": [
    "neural_network.train_in_batches(training_data, 512, 10000, 0.5)"
   ],
   "metadata": {
    "collapsed": false,
    "ExecuteTime": {
     "end_time": "2024-01-16T09:09:50.951903200Z",
     "start_time": "2024-01-16T09:09:23.829834100Z"
    }
   },
   "id": "d62b5d279be27969",
   "execution_count": 12
  },
  {
   "cell_type": "markdown",
   "source": [
    "4. Test the neural network"
   ],
   "metadata": {
    "collapsed": false
   },
   "id": "33bda9635a849eb6"
  },
  {
   "cell_type": "code",
   "outputs": [
    {
     "name": "stdout",
     "output_type": "stream",
     "text": [
      "Success rate:  100.0 %\n"
     ]
    }
   ],
   "source": [
    "testResults = []\n",
    "for i in range(100):\n",
    "    output = neural_network.get_output(test_data[i][0])\n",
    "    testResults.append(round(output[0]) == test_data[i][1][0])\n",
    "\n",
    "# % of success\n",
    "successRate = sum(testResults) / 100\n",
    "print(\"Success rate: \", successRate * 100, \"%\")"
   ],
   "metadata": {
    "collapsed": false,
    "ExecuteTime": {
     "end_time": "2024-01-16T09:12:11.034309300Z",
     "start_time": "2024-01-16T09:12:11.008282500Z"
    }
   },
   "id": "c5887f4d886d59bd",
   "execution_count": 13
  },
  {
   "cell_type": "markdown",
   "source": [
    "## Exporting the model"
   ],
   "metadata": {
    "collapsed": false
   },
   "id": "f6c908c0a871fefb"
  },
  {
   "cell_type": "code",
   "outputs": [
    {
     "name": "stdout",
     "output_type": "stream",
     "text": [
      "Exported model:\n",
      "b'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'\n"
     ]
    }
   ],
   "source": [
    "import pickle\n",
    "dump = pickle.dumps(neural_network)\n",
    "import zlib\n",
    "compressed_dump = zlib.compress(dump)\n",
    "import base64\n",
    "str = base64.b64encode(compressed_dump)\n",
    "print(\"Exported model:\")\n",
    "print(str)"
   ],
   "metadata": {
    "collapsed": false,
    "ExecuteTime": {
     "end_time": "2024-01-16T09:13:14.627345Z",
     "start_time": "2024-01-16T09:13:14.596655400Z"
    }
   },
   "id": "952734d0b0ad8350",
   "execution_count": 14
  },
  {
   "cell_type": "markdown",
   "source": [
    "## Importing the model"
   ],
   "metadata": {
    "collapsed": false
   },
   "id": "6594f31026b21231"
  },
  {
   "cell_type": "code",
   "outputs": [],
   "source": [
    "import TinyNeuralNetwork as tnn\n",
    "# We copy the exported model string here\n",
    "model = str #b'eJxVUttu... (truncated for readability) \n",
    "\n",
    "neural_network_imported = tnn.import_model(model)"
   ],
   "metadata": {
    "collapsed": false,
    "ExecuteTime": {
     "end_time": "2024-01-16T09:15:11.181345900Z",
     "start_time": "2024-01-16T09:15:11.163862500Z"
    }
   },
   "id": "dc71b6f83a55e4f5",
   "execution_count": 16
  },
  {
   "cell_type": "markdown",
   "source": [
    "### Testing the imported model"
   ],
   "metadata": {
    "collapsed": false
   },
   "id": "c967b2a70d7c96fe"
  },
  {
   "cell_type": "code",
   "outputs": [
    {
     "name": "stdout",
     "output_type": "stream",
     "text": [
      "Success rate:  100.0 %\n"
     ]
    }
   ],
   "source": [
    "# Test network\n",
    "testResults = []\n",
    "for i in range(100):\n",
    "    output = neural_network_imported.get_output(test_data[i][0])\n",
    "    testResults.append(round(output[0]) == test_data[i][1][0])\n",
    "\n",
    "# % of success\n",
    "successRate = sum(testResults) / 100\n",
    "print(\"Success rate: \", successRate * 100, \"%\")"
   ],
   "metadata": {
    "collapsed": false,
    "ExecuteTime": {
     "end_time": "2024-01-16T09:15:12.552966600Z",
     "start_time": "2024-01-16T09:15:12.536921400Z"
    }
   },
   "id": "11547c580c6a1b75",
   "execution_count": 17
  }
 ],
 "metadata": {
  "kernelspec": {
   "display_name": "Python 3",
   "language": "python",
   "name": "python3"
  },
  "language_info": {
   "codemirror_mode": {
    "name": "ipython",
    "version": 2
   },
   "file_extension": ".py",
   "mimetype": "text/x-python",
   "name": "python",
   "nbconvert_exporter": "python",
   "pygments_lexer": "ipython2",
   "version": "2.7.6"
  }
 },
 "nbformat": 4,
 "nbformat_minor": 5
}
